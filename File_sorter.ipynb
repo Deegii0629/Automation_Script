{
 "cells": [
  {
   "cell_type": "code",
   "execution_count": null,
   "id": "f00b37f1-646c-4571-81e3-14271a9cf3b4",
   "metadata": {},
   "outputs": [],
   "source": [
    "import os, shutil"
   ]
  },
  {
   "cell_type": "code",
   "execution_count": 2,
   "id": "96c9bb8a-8772-4a63-b6c5-a2a7fda2182c",
   "metadata": {},
   "outputs": [],
   "source": [
    "path = r\"C:/Users/Delgersaikhan/Downloads/\""
   ]
  },
  {
   "cell_type": "code",
   "execution_count": 3,
   "id": "904b2fbd-e9e4-4244-9464-691c25ff2c90",
   "metadata": {
    "tags": []
   },
   "outputs": [],
   "source": [
    "file_name = os.listdir(path)"
   ]
  },
  {
   "cell_type": "code",
   "execution_count": 4,
   "id": "b520a6b0-47b1-43ab-9875-51f049729fa7",
   "metadata": {
    "tags": []
   },
   "outputs": [],
   "source": [
    "folder_names = ['slides', 'image', 'pdf', 'word']\n",
    "for type in range(0, 4):\n",
    "    if not os.path.exists(path + folder_names[type]):\n",
    "        #print(path + folder_names[type])\n",
    "        os.makedirs((path + folder_names[type]))\n",
    "        \n",
    "for file in file_name:\n",
    "    if \".docx\" in file and not os.path.exists(path + \"word/\" + file):\n",
    "        shutil.move(path + file, path + \"word/\" + file)\n",
    "    elif \".pptx\" in file and not os.path.exists(path + \"slides/\" + file):\n",
    "        shutil.move(path + file, path + \"slides/\" + file)\n",
    "    elif \".pdf\" in file and not os.path.exists(path + \"pdf/\" + file):\n",
    "        shutil.move(path + file, path + \"pdf/\" + file)\n",
    "    elif \".png\" in file and not os.path.exists(path + \"image/\" + file):\n",
    "        shutil.move(path + file, path + \"image/\" + file)\n",
    "    elif \".jpg\" in file and not os.path.exists(path + \"image/\" + file):\n",
    "        shutil.move(path + file, path + \"image/\" + file)"
   ]
  }
 ],
 "metadata": {
  "kernelspec": {
   "display_name": "Python 3 (ipykernel)",
   "language": "python",
   "name": "python3"
  },
  "language_info": {
   "codemirror_mode": {
    "name": "ipython",
    "version": 3
   },
   "file_extension": ".py",
   "mimetype": "text/x-python",
   "name": "python",
   "nbconvert_exporter": "python",
   "pygments_lexer": "ipython3",
   "version": "3.11.5"
  },
  "toc-showcode": true
 },
 "nbformat": 4,
 "nbformat_minor": 5
}
